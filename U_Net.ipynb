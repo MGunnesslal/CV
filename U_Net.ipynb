{
  "nbformat": 4,
  "nbformat_minor": 0,
  "metadata": {
    "colab": {
      "provenance": [],
      "authorship_tag": "ABX9TyNfBZBJvJ0yrcZZkx8ezNZP",
      "include_colab_link": true
    },
    "kernelspec": {
      "name": "python3",
      "display_name": "Python 3"
    },
    "language_info": {
      "name": "python"
    }
  },
  "cells": [
    {
      "cell_type": "markdown",
      "metadata": {
        "id": "view-in-github",
        "colab_type": "text"
      },
      "source": [
        "<a href=\"https://colab.research.google.com/github/MGunnesslal/CV/blob/main/U_Net.ipynb\" target=\"_parent\"><img src=\"https://colab.research.google.com/assets/colab-badge.svg\" alt=\"Open In Colab\"/></a>"
      ]
    },
    {
      "cell_type": "code",
      "execution_count": null,
      "metadata": {
        "id": "WOlfzulkjErj"
      },
      "outputs": [],
      "source": [
        "!pip install tensorflow"
      ]
    },
    {
      "cell_type": "code",
      "source": [
        "!pip install keras"
      ],
      "metadata": {
        "id": "h0RjIguKjNpL"
      },
      "execution_count": null,
      "outputs": []
    },
    {
      "cell_type": "code",
      "source": [
        "!pip install tifffile"
      ],
      "metadata": {
        "id": "dwpLMazajSIv"
      },
      "execution_count": null,
      "outputs": []
    },
    {
      "cell_type": "code",
      "source": [
        "!pip install pillow"
      ],
      "metadata": {
        "id": "iBAzM3oNjStV"
      },
      "execution_count": null,
      "outputs": []
    },
    {
      "cell_type": "code",
      "source": [
        "!pip install rasterio"
      ],
      "metadata": {
        "id": "WK0pcIN1jUOL"
      },
      "execution_count": null,
      "outputs": []
    },
    {
      "cell_type": "code",
      "source": [
        "!pip install tensorflow-addons"
      ],
      "metadata": {
        "id": "_tH7rHtBjYnT"
      },
      "execution_count": null,
      "outputs": []
    },
    {
      "cell_type": "code",
      "source": [
        "import os\n",
        "import numpy as np\n",
        "import cv2\n",
        "import tensorflow as tf\n",
        "import tensorflow_addons as tfa\n",
        "import rasterio\n",
        "from rasterio.plot import reshape_as_raster, reshape_as_image\n",
        "from sklearn.model_selection import train_test_split\n",
        "from keras.layers import Input, Conv2D, MaxPooling2D, UpSampling2D, concatenate, Conv2DTranspose, BatchNormalization, Dropout\n",
        "from keras.models import Model\n",
        "from keras.optimizers import Adam"
      ],
      "metadata": {
        "id": "KwlQCZrajZKu"
      },
      "execution_count": null,
      "outputs": []
    },
    {
      "cell_type": "code",
      "source": [
        "# Run this cell to mount your Google Drive.\n",
        "from google.colab import drive\n",
        "drive.mount('/content/drive')"
      ],
      "metadata": {
        "colab": {
          "base_uri": "https://localhost:8080/"
        },
        "id": "8G2EBeSEkE2g",
        "outputId": "0ebf1b0f-3a65-42ae-f279-e6cad52b45e9"
      },
      "execution_count": 8,
      "outputs": [
        {
          "output_type": "stream",
          "name": "stdout",
          "text": [
            "Drive already mounted at /content/drive; to attempt to forcibly remount, call drive.mount(\"/content/drive\", force_remount=True).\n"
          ]
        }
      ]
    },
    {
      "cell_type": "code",
      "source": [
        "#Define constants\n",
        "IMAGE_FOLDER = '/content/drive/MyDrive/mband/imgTif'\n",
        "MASK_FOLDER = '/content/drive/MyDrive/mband/mask'\n",
        "IMAGE_SIZE = 128\n",
        "BANDS = 8\n",
        "NUM_CLASSES = 8\n",
        "BATCH_SIZE = 32\n",
        "EPOCHS = 10"
      ],
      "metadata": {
        "id": "ynq3YWKfjjEz"
      },
      "execution_count": 9,
      "outputs": []
    },
    {
      "cell_type": "code",
      "source": [
        "# Define color mappings for classes\n",
        "class_colors = {\n",
        "    (125, 235, 247): 0,  # Water\n",
        "    (109, 49, 9): 1,     # Coconut\n",
        "    (34, 99, 19): 2,     # Forest\n",
        "    (227, 238, 88): 3,   # Agriculture\n",
        "    (132, 252, 104): 4,  # Mangrove\n",
        "    (20, 188, 132): 5,   # Non-Forested Wetland\n",
        "    (252, 166, 180): 6,  # Sandy Beach\n",
        "    (255, 0, 0): 7       # Urban Development\n",
        "}"
      ],
      "metadata": {
        "id": "DN3jGYC8jmQU"
      },
      "execution_count": 10,
      "outputs": []
    },
    {
      "cell_type": "code",
      "source": [
        "# Data loading and preprocessing\n",
        "def load_data(image_folder, mask_folder):\n",
        "    images = []\n",
        "    masks = []\n",
        "    for filename in os.listdir(image_folder):\n",
        "        if filename.endswith('.tif'):\n",
        "            image_path = os.path.join(image_folder, filename)\n",
        "            mask_path = os.path.join(mask_folder, filename[:-4] + '.png')\n",
        "            images.append(image_path)\n",
        "            masks.append(mask_path)\n",
        "    return images, masks\n",
        "\n",
        "def preprocess_image(img):\n",
        "    # Normalize image to range [0, 1]\n",
        "    img = img / 65535.0\n",
        "    return img\n",
        "\n",
        "def preprocess_mask(mask):\n",
        "    # Convert RGBA mask to class indices\n",
        "    mask_rgb = cv2.cvtColor(mask, cv2.COLOR_RGBA2RGB)\n",
        "    mask_indices = np.zeros((mask.shape[0], mask.shape[1]), dtype=np.uint8)\n",
        "    for color, idx in class_colors.items():\n",
        "        indices = np.all(mask_rgb == np.array(color), axis=-1)\n",
        "        mask_indices[indices] = idx\n",
        "    return mask_indices\n",
        "\n",
        "def preprocess_data(image_paths, mask_paths):\n",
        "    images = []\n",
        "    masks = []\n",
        "    for img_path, mask_path in zip(image_paths, mask_paths):\n",
        "        with rasterio.open(img_path) as src:\n",
        "            img = src.read()\n",
        "            img = np.transpose(img, axes=(1, 2, 0))  # Transpose to have channels last\n",
        "        img = preprocess_image(img)\n",
        "        mask = cv2.imread(mask_path, cv2.IMREAD_UNCHANGED)\n",
        "        mask = preprocess_mask(mask)\n",
        "        images.append(img)\n",
        "        masks.append(mask)\n",
        "    return np.array(images), np.array(masks)"
      ],
      "metadata": {
        "id": "DmB9TUI8jqsL"
      },
      "execution_count": 23,
      "outputs": []
    },
    {
      "cell_type": "code",
      "source": [
        "# Split data into training and validation sets\n",
        "def split_data(images, masks):\n",
        "    train_images, val_images, train_masks, val_masks = train_test_split(images, masks, test_size=0.2, random_state=42)\n",
        "    return train_images, val_images, train_masks, val_masks"
      ],
      "metadata": {
        "id": "1d-D9TLzjuk8"
      },
      "execution_count": 14,
      "outputs": []
    },
    {
      "cell_type": "code",
      "source": [
        "# Data augmentation\n",
        "def data_augmentation(image, mask):\n",
        "    # Perform data augmentation here\n",
        "    # For example, you can use rotation, flipping, zooming, etc.\n",
        "    return image, mask"
      ],
      "metadata": {
        "id": "ILpsNdyXjwtH"
      },
      "execution_count": 15,
      "outputs": []
    },
    {
      "cell_type": "code",
      "source": [
        "# U-Net model\n",
        "def unet_model(nb_classes=NUM_CLASSES, img_size=IMAGE_SIZE, nb_channels=BANDS, nb_filters_start=32,\n",
        "               growth_factor=2, upconv=True, class_weights=[0.3, 0.5, 0.2, 0.2, 0.4, 0.3, 0.4, 0.4],\n",
        "               droprate=0.25):\n",
        "    nb_filters = nb_filters_start\n",
        "    inputs = Input(shape=(img_size, img_size, nb_channels))  # Adjust input shape dynamically\n",
        "    conv1 = Conv2D(nb_filters, (3, 3), activation='relu', padding='same')(inputs)\n",
        "    conv1 = Conv2D(nb_filters, (3, 3), activation='relu', padding='same')(conv1)\n",
        "    pool1 = MaxPooling2D(pool_size=(2, 2))(conv1)\n",
        "\n",
        "    nb_filters *= growth_factor\n",
        "    pool1 = BatchNormalization()(pool1)\n",
        "    conv2 = Conv2D(nb_filters, (3, 3), activation='relu', padding='same')(pool1)\n",
        "    conv2 = Conv2D(nb_filters, (3, 3), activation='relu', padding='same')(conv2)\n",
        "    pool2 = MaxPooling2D(pool_size=(2, 2))(conv2)\n",
        "    pool2 = Dropout(droprate)(pool2)\n",
        "\n",
        "    nb_filters *= growth_factor\n",
        "    pool2 = BatchNormalization()(pool2)\n",
        "    conv3 = Conv2D(nb_filters, (3, 3), activation='relu', padding='same')(pool2)\n",
        "    conv3 = Conv2D(nb_filters, (3, 3), activation='relu', padding='same')(conv3)\n",
        "    pool3 = MaxPooling2D(pool_size=(2, 2))(conv3)\n",
        "    pool3 = Dropout(droprate)(pool3)\n",
        "\n",
        "    nb_filters *= growth_factor\n",
        "    pool3 = BatchNormalization()(pool3)\n",
        "    conv4_0 = Conv2D(nb_filters, (3, 3), activation='relu', padding='same')(pool3)\n",
        "    conv4_0 = Conv2D(nb_filters, (3, 3), activation='relu', padding='same')(conv4_0)\n",
        "    pool4_1 = MaxPooling2D(pool_size=(2, 2))(conv4_0)\n",
        "    pool4_1 = Dropout(droprate)(pool4_1)\n",
        "\n",
        "    nb_filters *= growth_factor\n",
        "    pool4_1 = BatchNormalization()(pool4_1)\n",
        "    conv4_1 = Conv2D(nb_filters, (3, 3), activation='relu', padding='same')(pool4_1)\n",
        "    conv4_1 = Conv2D(nb_filters, (3, 3), activation='relu', padding='same')(conv4_1)\n",
        "    pool4_2 = MaxPooling2D(pool_size=(2, 2))(conv4_1)\n",
        "    pool4_2 = Dropout(droprate)(pool4_2)\n",
        "\n",
        "    nb_filters *= growth_factor\n",
        "    conv5 = Conv2D(nb_filters, (3, 3), activation='relu', padding='same')(pool4_2)\n",
        "    conv5 = Conv2D(nb_filters, (3, 3), activation='relu', padding='same')(conv5)\n",
        "\n",
        "\n",
        "    # this is the bottom part of \"U\"\n",
        "\n",
        "\n",
        "    nb_filters //= growth_factor\n",
        "    if upconv:\n",
        "        up6_1 = concatenate([Conv2DTranspose(nb_filters, (2, 2), strides=(2, 2), padding='same')(conv5), conv4_1])\n",
        "    else:\n",
        "        up6_1 = concatenate([UpSampling2D(size=(2, 2))(conv5), conv4_1])\n",
        "\n",
        "    up6_1 = BatchNormalization()(up6_1)\n",
        "    conv6_1 = Conv2D(nb_filters, (3, 3), activation='relu', padding='same')(up6_1)\n",
        "    conv6_1 = Conv2D(nb_filters, (3, 3), activation='relu', padding='same')(conv6_1)\n",
        "    conv6_1 = Dropout(droprate)(conv6_1)\n",
        "\n",
        "    nb_filters //= growth_factor\n",
        "    if upconv:\n",
        "        up6_2 = concatenate([Conv2DTranspose(nb_filters, (2, 2), strides=(2, 2), padding='same')(conv6_1), conv4_0])\n",
        "    else:\n",
        "        up6_2 = concatenate([UpSampling2D(size=(2, 2))(conv6_1), conv4_0])\n",
        "    up6_2 = BatchNormalization()(up6_2)\n",
        "    conv6_2 = Conv2D(nb_filters, (3, 3), activation='relu', padding='same')(up6_2)\n",
        "    conv6_2 = Conv2D(nb_filters, (3, 3), activation='relu', padding='same')(conv6_2)\n",
        "    conv6_2 = Dropout(droprate)(conv6_2)\n",
        "\n",
        "    nb_filters //= growth_factor\n",
        "    if upconv:\n",
        "        up7 = concatenate([Conv2DTranspose(nb_filters, (2, 2), strides=(2, 2), padding='same')(conv6_2), conv3])\n",
        "    else:\n",
        "        up7 = concatenate([UpSampling2D(size=(2, 2))(conv6_2), conv3])\n",
        "    up7 = BatchNormalization()(up7)\n",
        "    conv7 = Conv2D(nb_filters, (3, 3), activation='relu', padding='same')(up7)\n",
        "    conv7 = Conv2D(nb_filters, (3, 3), activation='relu', padding='same')(conv7)\n",
        "    conv7 = Dropout(droprate)(conv7)\n",
        "\n",
        "    nb_filters //= growth_factor\n",
        "    if upconv:\n",
        "        up8 = concatenate([Conv2DTranspose(nb_filters, (2, 2), strides=(2, 2), padding='same')(conv7), conv2])\n",
        "    else:\n",
        "        up8 = concatenate([UpSampling2D(size=(2, 2))(conv7), conv2])\n",
        "    up8 = BatchNormalization()(up8)\n",
        "    conv8 = Conv2D(nb_filters, (3, 3), activation='relu', padding='same')(up8)\n",
        "    conv8 = Conv2D(nb_filters, (3, 3), activation='relu', padding='same')(conv8)\n",
        "    conv8 = Dropout(droprate)(conv8)\n",
        "\n",
        "    nb_filters //= growth_factor\n",
        "    if upconv:\n",
        "        up9 = concatenate([Conv2DTranspose(nb_filters, (2, 2), strides=(2, 2), padding='same')(conv8), conv1])\n",
        "    else:\n",
        "        up9 = concatenate([UpSampling2D(size=(2, 2))(conv8), conv1])\n",
        "    conv9 = Conv2D(nb_filters, (3, 3), activation='relu', padding='same')(up9)\n",
        "    conv9 = Conv2D(nb_filters, (3, 3), activation='relu', padding='same')(conv9)\n",
        "\n",
        "    conv10 = Conv2D(nb_classes, (1, 1), activation='softmax')(conv9)\n",
        "\n",
        "    model = Model(inputs=inputs, outputs=conv10)\n",
        "\n",
        "    # Define loss function\n",
        "    def weighted_binary_crossentropy(y_true, y_pred):\n",
        "        class_loglosses = tf.reduce_mean(tf.keras.backend.binary_crossentropy(y_true, y_pred), axis=[0, 1, 2])\n",
        "        return tf.reduce_sum(class_loglosses * tf.constant(class_weights))\n",
        "\n",
        "    model.compile(optimizer=Adam(), loss=weighted_binary_crossentropy)\n",
        "\n",
        "    return model"
      ],
      "metadata": {
        "id": "vjT-GP4mjzHW"
      },
      "execution_count": 16,
      "outputs": []
    },
    {
      "cell_type": "code",
      "source": [
        "# Load data\n",
        "image_paths, mask_paths = load_data(IMAGE_FOLDER, MASK_FOLDER)\n",
        "images, masks = preprocess_data(image_paths, mask_paths)"
      ],
      "metadata": {
        "id": "Z6w05qvEkklJ"
      },
      "execution_count": 17,
      "outputs": []
    },
    {
      "cell_type": "code",
      "source": [
        "# Split data\n",
        "train_images, val_images, train_masks, val_masks = split_data(images, masks)"
      ],
      "metadata": {
        "id": "Pw_BsQKikmZu"
      },
      "execution_count": 18,
      "outputs": []
    },
    {
      "cell_type": "code",
      "source": [
        "# Data augmentation\n",
        "train_dataset = tf.data.Dataset.from_tensor_slices((train_images, train_masks))\n",
        "train_dataset = train_dataset.map(data_augmentation)\n",
        "train_dataset = train_dataset.batch(BATCH_SIZE).prefetch(tf.data.experimental.AUTOTUNE)\n",
        "\n",
        "val_dataset = tf.data.Dataset.from_tensor_slices((val_images, val_masks))\n",
        "val_dataset = val_dataset.batch(BATCH_SIZE).prefetch(tf.data.experimental.AUTOTUNE)"
      ],
      "metadata": {
        "id": "7C3CmBUmkouQ"
      },
      "execution_count": 19,
      "outputs": []
    },
    {
      "cell_type": "code",
      "source": [
        "# Build and compile the model\n",
        "input_shape = (IMAGE_SIZE, IMAGE_SIZE, BANDS)\n",
        "model = unet_model()\n",
        "model.compile(optimizer=Adam(), loss='sparse_categorical_crossentropy', metrics=['accuracy'])"
      ],
      "metadata": {
        "id": "e4GjAoKhkr4t"
      },
      "execution_count": 20,
      "outputs": []
    },
    {
      "cell_type": "code",
      "source": [
        "# Train the model\n",
        "model.fit(train_dataset, epochs=EPOCHS, validation_data=val_dataset)"
      ],
      "metadata": {
        "colab": {
          "base_uri": "https://localhost:8080/"
        },
        "id": "ZQLAEb5Mkslt",
        "outputId": "d32b481a-d8ab-4127-a54c-dee680d253a2"
      },
      "execution_count": 21,
      "outputs": [
        {
          "output_type": "stream",
          "name": "stdout",
          "text": [
            "Epoch 1/20\n",
            "1/1 [==============================] - 21s 21s/step - loss: 2.0430 - accuracy: 0.2307 - val_loss: 2.0688 - val_accuracy: 1.0000\n",
            "Epoch 2/20\n",
            "1/1 [==============================] - 7s 7s/step - loss: 1.8292 - accuracy: 0.8046 - val_loss: 2.0503 - val_accuracy: 1.0000\n",
            "Epoch 3/20\n",
            "1/1 [==============================] - 9s 9s/step - loss: 1.4034 - accuracy: 0.9852 - val_loss: 2.0143 - val_accuracy: 1.0000\n",
            "Epoch 4/20\n",
            "1/1 [==============================] - 8s 8s/step - loss: 0.8064 - accuracy: 0.9983 - val_loss: 1.9222 - val_accuracy: 1.0000\n",
            "Epoch 5/20\n",
            "1/1 [==============================] - 8s 8s/step - loss: 0.2591 - accuracy: 0.9996 - val_loss: 1.4902 - val_accuracy: 1.0000\n",
            "Epoch 6/20\n",
            "1/1 [==============================] - 10s 10s/step - loss: 0.0435 - accuracy: 1.0000 - val_loss: 0.4419 - val_accuracy: 1.0000\n",
            "Epoch 7/20\n",
            "1/1 [==============================] - 9s 9s/step - loss: 0.0096 - accuracy: 1.0000 - val_loss: 0.0645 - val_accuracy: 1.0000\n",
            "Epoch 8/20\n",
            "1/1 [==============================] - 9s 9s/step - loss: 0.0023 - accuracy: 1.0000 - val_loss: 0.0129 - val_accuracy: 1.0000\n",
            "Epoch 9/20\n",
            "1/1 [==============================] - 9s 9s/step - loss: 5.0778e-04 - accuracy: 1.0000 - val_loss: 0.0032 - val_accuracy: 1.0000\n",
            "Epoch 10/20\n",
            "1/1 [==============================] - 9s 9s/step - loss: 1.2963e-04 - accuracy: 1.0000 - val_loss: 0.0010 - val_accuracy: 1.0000\n",
            "Epoch 11/20\n",
            "1/1 [==============================] - 8s 8s/step - loss: 3.5920e-05 - accuracy: 1.0000 - val_loss: 4.5168e-04 - val_accuracy: 1.0000\n",
            "Epoch 12/20\n",
            "1/1 [==============================] - 11s 11s/step - loss: 1.0077e-05 - accuracy: 1.0000 - val_loss: 2.5022e-04 - val_accuracy: 1.0000\n",
            "Epoch 13/20\n",
            "1/1 [==============================] - 9s 9s/step - loss: 3.5496e-06 - accuracy: 1.0000 - val_loss: 1.6119e-04 - val_accuracy: 1.0000\n",
            "Epoch 14/20\n",
            "1/1 [==============================] - 8s 8s/step - loss: 1.2398e-06 - accuracy: 1.0000 - val_loss: 1.1764e-04 - val_accuracy: 1.0000\n",
            "Epoch 15/20\n",
            "1/1 [==============================] - 9s 9s/step - loss: 4.4515e-07 - accuracy: 1.0000 - val_loss: 9.4140e-05 - val_accuracy: 1.0000\n",
            "Epoch 16/20\n",
            "1/1 [==============================] - 9s 9s/step - loss: 1.4310e-07 - accuracy: 1.0000 - val_loss: 7.9953e-05 - val_accuracy: 1.0000\n",
            "Epoch 17/20\n",
            "1/1 [==============================] - 8s 8s/step - loss: 7.4774e-08 - accuracy: 1.0000 - val_loss: 7.2423e-05 - val_accuracy: 1.0000\n",
            "Epoch 18/20\n",
            "1/1 [==============================] - 9s 9s/step - loss: 2.1283e-08 - accuracy: 1.0000 - val_loss: 6.8922e-05 - val_accuracy: 1.0000\n",
            "Epoch 19/20\n",
            "1/1 [==============================] - 8s 8s/step - loss: 2.2298e-08 - accuracy: 1.0000 - val_loss: 6.7642e-05 - val_accuracy: 1.0000\n",
            "Epoch 20/20\n",
            "1/1 [==============================] - 9s 9s/step - loss: 3.0679e-09 - accuracy: 1.0000 - val_loss: 6.8460e-05 - val_accuracy: 1.0000\n"
          ]
        },
        {
          "output_type": "execute_result",
          "data": {
            "text/plain": [
              "<keras.src.callbacks.History at 0x788b917bffa0>"
            ]
          },
          "metadata": {},
          "execution_count": 21
        }
      ]
    },
    {
      "cell_type": "code",
      "source": [
        "# Evaluate the model on the validation dataset\n",
        "val_loss, val_accuracy = model.evaluate(val_dataset)\n",
        "\n",
        "print(\"Validation Loss:\", val_loss)\n",
        "print(\"Validation Accuracy:\", val_accuracy)"
      ],
      "metadata": {
        "colab": {
          "base_uri": "https://localhost:8080/"
        },
        "id": "PfHYBpkTuGRW",
        "outputId": "1318740b-1b69-4946-e759-c6f640870623"
      },
      "execution_count": 22,
      "outputs": [
        {
          "output_type": "stream",
          "name": "stdout",
          "text": [
            "1/1 [==============================] - 1s 1s/step - loss: 6.8460e-05 - accuracy: 1.0000\n",
            "Validation Loss: 6.84604310663417e-05\n",
            "Validation Accuracy: 1.0\n"
          ]
        }
      ]
    }
  ]
}